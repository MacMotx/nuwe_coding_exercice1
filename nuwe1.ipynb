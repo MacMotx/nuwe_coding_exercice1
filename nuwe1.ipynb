{
 "cells": [
  {
   "cell_type": "markdown",
   "id": "1bd6cc5c",
   "metadata": {},
   "source": [
    "2520 is the smallest number that can be divided by each of the numbers from 1 to 10 without any remainder.\n",
    "\n",
    "What is the smallest positive number that is evenly divisible by all of the numbers from 1 to 20?"
   ]
  },
  {
   "cell_type": "code",
   "execution_count": 23,
   "id": "0d3e620e",
   "metadata": {},
   "outputs": [],
   "source": [
    "import math, functools\n"
   ]
  },
  {
   "cell_type": "code",
   "execution_count": 24,
   "id": "2c47c6f1",
   "metadata": {},
   "outputs": [
    {
     "name": "stdout",
     "output_type": "stream",
     "text": [
      "232792560\n"
     ]
    }
   ],
   "source": [
    "# a lo destroyer, uso lcm para saber el \n",
    "#resultado real y porque teclear del 1 al 20 es medio minuto\n",
    "# en comparacion con las historias de los bucles\n",
    "print(math.lcm(1,2,3,4,5,6,7,8,9,10,11,12,13,14,15,16,17,18,19,20))"
   ]
  },
  {
   "cell_type": "code",
   "execution_count": 26,
   "id": "04c2f44a",
   "metadata": {},
   "outputs": [
    {
     "name": "stdout",
     "output_type": "stream",
     "text": [
      "232792560\n"
     ]
    }
   ],
   "source": [
    "# encadeno con la funcion reduce para poder pasarle una lista\n",
    "# al tener el codigo en C dicen que es mas eficiente\n",
    "print(functools.reduce(math.lcm, [x for x in range(1,21)]))"
   ]
  },
  {
   "cell_type": "code",
   "execution_count": null,
   "id": "5878bb5a",
   "metadata": {},
   "outputs": [],
   "source": []
  }
 ],
 "metadata": {
  "kernelspec": {
   "display_name": "Python 3 (ipykernel)",
   "language": "python",
   "name": "python3"
  },
  "language_info": {
   "codemirror_mode": {
    "name": "ipython",
    "version": 3
   },
   "file_extension": ".py",
   "mimetype": "text/x-python",
   "name": "python",
   "nbconvert_exporter": "python",
   "pygments_lexer": "ipython3",
   "version": "3.9.7"
  }
 },
 "nbformat": 4,
 "nbformat_minor": 5
}
